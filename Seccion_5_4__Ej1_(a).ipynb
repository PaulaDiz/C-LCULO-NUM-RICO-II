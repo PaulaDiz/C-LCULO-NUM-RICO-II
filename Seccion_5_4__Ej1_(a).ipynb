{
  "nbformat": 4,
  "nbformat_minor": 0,
  "metadata": {
    "colab": {
      "provenance": [],
      "authorship_tag": "ABX9TyOUckFkHciMJm4A4ewzCaXv",
      "include_colab_link": true
    },
    "kernelspec": {
      "name": "python3",
      "display_name": "Python 3"
    },
    "language_info": {
      "name": "python"
    }
  },
  "cells": [
    {
      "cell_type": "markdown",
      "metadata": {
        "id": "view-in-github",
        "colab_type": "text"
      },
      "source": [
        "<a href=\"https://colab.research.google.com/github/PaulaDiz/C-LCULO-NUM-RICO-II/blob/main/Seccion_5_4__Ej1_(a).ipynb\" target=\"_parent\"><img src=\"https://colab.research.google.com/assets/colab-badge.svg\" alt=\"Open In Colab\"/></a>"
      ]
    },
    {
      "cell_type": "markdown",
      "source": [
        "Utilice el método modificado de Euler para aproximar las soluciones para cada uno de los siguientes\n",
        "problemas de valor inicial y compare los resultados con los valores reales\n",
        "\n",
        "a) y'=t(e^3t)-2y     con solución real:    (1/5)*t*e(3*t)-(1/25)*e(3*t)+(1/25)*e(-2*t)\n",
        "\n",
        "t [0,1]\n",
        "\n",
        "h=0.5\n",
        "\n",
        "y(0)=0"
      ],
      "metadata": {
        "id": "S4t8Oj4_LKH4"
      }
    },
    {
      "cell_type": "markdown",
      "source": [
        "Calcular y(0.5) con RK2"
      ],
      "metadata": {
        "id": "1aETA6WXMrKM"
      }
    },
    {
      "cell_type": "code",
      "source": [
        "import numpy as np\n",
        "import matplotlib.pyplot as plt\n",
        "import pandas as pd\n",
        "import math\n",
        "\n",
        "# Definir la ecuación diferencial y' = y - t^2 + 1\n",
        "def f(t, y):\n",
        "  return t*math.exp(3*t)-2*y\n",
        "\n",
        "# Solución exacta de la ecuación diferencial\n",
        "def exact_solution(t):\n",
        "  return (1/5)*t*math.exp(3*t)-(1/25)*math.exp(3*t)+(1/25)*math.exp(-2*t)\n",
        "\n",
        "# Método de Runge-Kutta de segundo orden (RK2)\n",
        "def runge_kutta_2(f, t0, y0, h, t_end):\n",
        "  # Inicialización de variables\n",
        "  t_vals = [t0]\n",
        "  y_vals = [y0]\n",
        "  t = t0\n",
        "  y = y0\n",
        "  # Iteración para resolver hasta t_end\n",
        "  while t < t_end:\n",
        "\n",
        "  # Cálculo de k1 y k2 (RK2)\n",
        "    k1 = f(t, y)\n",
        "    k2 = f(t + h, y + h * k1)\n",
        "\n",
        "    # Actualización de y\n",
        "    y = y + (h / 2) * (k1 + k2)\n",
        "    t = t + h\n",
        "\n",
        "    # Guardar los valores\n",
        "    t_vals.append(t)\n",
        "    y_vals.append(y)\n",
        "\n",
        "  return t_vals, y_vals\n",
        "\n",
        "\n",
        "# Parámetros iniciales\n",
        "t0 = 0 # Valor inicial de t\n",
        "y0 = 0 # Valor inicial de y\n",
        "t_end = 1 # Valor final de t\n",
        "h = 0.5 # Tamaño de paso\n",
        "\n",
        "# Llamar al método de Runge-Kutta de orden 2\n",
        "t_vals, y_vals = runge_kutta_2(f, t0, y0, h, t_end)\n",
        "\n",
        "# Calcular la solución exacta para los mismos valores de t\n",
        "exact_vals = [exact_solution(t) for t in t_vals]\n",
        "\n",
        "# Calcular el error absoluto en cada punto\n",
        "errors = [abs(exact_vals[i] - y_vals[i]) for i in range(len(t_vals))]\n",
        "\n",
        "# Mostrar la tabla de resultados con los errores en un DataFrame\n",
        "tabla_resultados = pd.DataFrame({\n",
        "'t': t_vals,\n",
        "'y (RK2)': y_vals,\n",
        "'y (Exacta)': exact_vals,\n",
        "'Error Absoluto': errors\n",
        "})\n",
        "print(tabla_resultados)\n"
      ],
      "metadata": {
        "colab": {
          "base_uri": "https://localhost:8080/"
        },
        "id": "bYTy4fs9LOa8",
        "outputId": "d1f6c368-0810-4f25-a442-b8cd34d7f240"
      },
      "execution_count": 1,
      "outputs": [
        {
          "output_type": "stream",
          "name": "stdout",
          "text": [
            "     t   y (RK2)  y (Exacta)  Error Absoluto\n",
            "0  0.0  0.000000    0.000000        0.000000\n",
            "1  0.5  0.560211    0.283617        0.276595\n",
            "2  1.0  5.301490    3.219099        2.082390\n"
          ]
        }
      ]
    },
    {
      "cell_type": "markdown",
      "source": [
        "Calcular y(0.5) con RK4"
      ],
      "metadata": {
        "id": "FOJhhxOEMw23"
      }
    },
    {
      "cell_type": "code",
      "source": [
        "import numpy as np\n",
        "import matplotlib.pyplot as plt\n",
        "import pandas as pd\n",
        "\n",
        "# Definir la ecuación diferencial y' = y - t^2 + 1\n",
        "def f(t, y):\n",
        "  return t*math.exp(3*t)-2*y\n",
        "\n",
        "# Solución exacta de la ecuación diferencial\n",
        "def exact_solution(t):\n",
        "  return (1/5)*t*math.exp(3*t)-(1/25)*math.exp(3*t)+(1/25)*math.exp(-2*t)\n",
        "\n",
        "# Método de Runge-Kutta de cuarto orden (RK4)\n",
        "def runge_kutta_4(f, t0, y0, h, t_end):\n",
        "  # Inicialización de variables\n",
        "  t_vals = [t0]\n",
        "  y_vals = [y0]\n",
        "  t = t0\n",
        "  y = y0\n",
        "  # Iteración para resolver hasta t_end\n",
        "  while t < t_end:\n",
        "    # Cálculo de los k1, k2, k3 y k4\n",
        "    k1 = f(t, y)\n",
        "    k2 = f(t + h/2, y + h/2 * k1)\n",
        "    k3 = f(t + h/2, y + h/2 * k2)\n",
        "    k4 = f(t + h, y + h * k3)\n",
        "    # Actualización de y\n",
        "    y = y + (h/6) * (k1 + 2*k2 + 2*k3 + k4)\n",
        "    t = t + h\n",
        "    # Guardar los valores\n",
        "    t_vals.append(t)\n",
        "    y_vals.append(y)\n",
        "  return t_vals, y_vals\n",
        "\n",
        "\n",
        "# Parámetros iniciales\n",
        "t0 = 0 # Valor inicial de t\n",
        "y0 = 0 # Valor inicial de y\n",
        "t_end = 1 # Valor final de t\n",
        "h = 0.5 # Tamaño de paso\n",
        "# Llamar al método de Runge-Kutta de orden 4\n",
        "t_vals, y_vals = runge_kutta_4(f, t0, y0, h, t_end)\n",
        "# Calcular la solución exacta para los mismos valores de t\n",
        "exact_vals = [exact_solution(t) for t in t_vals]\n",
        "# Calcular el error absoluto en cada punto\n",
        "errors = [abs(exact_vals[i] - y_vals[i]) for i in range(len(t_vals))]\n",
        "# Mostrar la tabla de resultados con los errores en un DataFrame\n",
        "tabla_resultados = pd.DataFrame({\n",
        "'t': t_vals,\n",
        "'y (RK4)': y_vals,\n",
        "'y (Exacta)': exact_vals,\n",
        "'Error Absoluto': errors\n",
        "})\n",
        "print(tabla_resultados)\n"
      ],
      "metadata": {
        "colab": {
          "base_uri": "https://localhost:8080/"
        },
        "id": "pGjFcwpcM5B-",
        "outputId": "ad1e92b4-e326-44b8-88ac-c2011968e577"
      },
      "execution_count": 2,
      "outputs": [
        {
          "output_type": "stream",
          "name": "stdout",
          "text": [
            "     t   y (RK4)  y (Exacta)  Error Absoluto\n",
            "0  0.0  0.000000    0.000000        0.000000\n",
            "1  0.5  0.296997    0.283617        0.013381\n",
            "2  1.0  3.314312    3.219099        0.095212\n"
          ]
        }
      ]
    },
    {
      "cell_type": "markdown",
      "source": [
        "Con Euler"
      ],
      "metadata": {
        "id": "rJGrQBxrOeJ6"
      }
    },
    {
      "cell_type": "code",
      "source": [
        " def euler_method(f, x0, y0, N, x_end):\n",
        "  h = (x_end - x0) / N # Tamaño del paso depende de N\n",
        "  x_vals = [x0] # Lista para guardar los valores de x\n",
        "  y_vals = [y0] # Lista para guardar los valores de y\n",
        "  for i in range(N):\n",
        "    y0 = y0 + h * f(x0, y0) # Fórmula del método de Euler\n",
        "    x0 = x0 + h\n",
        "    x_vals.append(x0)\n",
        "    y_vals.append(y0)\n",
        "  return x_vals, y_vals\n",
        "\n",
        "import numpy as np\n",
        "import matplotlib.pyplot as plt\n",
        "import pandas as pd\n",
        "# Definir la función f(x, y) = dy/dx\n",
        "def f(t, y):\n",
        "  return t*math.exp(3*t)-2*y\n",
        "\n",
        "# Solución analítica exacta\n",
        "def exact_solution(t):\n",
        "  return (1/5)*t*math.exp(3*t)-(1/25)*math.exp(3*t)+(1/25)*math.exp(-2*t)\n",
        "\n",
        "  # Parámetros iniciales\n",
        "a = 0 # Valor inicial de x\n",
        "y0 =0 # Valor inicial de y\n",
        "b = 1 # Valor final de x\n",
        "h=0.5 # Número de subintervalos\n",
        "N=(b-a)/h\n",
        "N=round(N)\n",
        "# Llamar al método de Euler\n",
        "x_vals, y_vals = euler_method(f, a, y0, N, b)\n",
        "\n",
        "# Calcular la solución exacta para los mismos valores de x\n",
        "exact_vals = [exact_solution(t) for t in x_vals]\n",
        "# Mostrar la tabla de resultados en formato de DataFrame\n",
        "tabla_resultados = pd.DataFrame({\n",
        "'x': x_vals,\n",
        "'y (Euler)': y_vals,\n",
        "'y (Exacta)': exact_vals\n",
        "})\n",
        "print(tabla_resultados)"
      ],
      "metadata": {
        "id": "tf4cOlV9NzH4",
        "colab": {
          "base_uri": "https://localhost:8080/"
        },
        "outputId": "56fc9a90-9e73-40b1-eda3-ca49cbb89d92"
      },
      "execution_count": 3,
      "outputs": [
        {
          "output_type": "stream",
          "name": "stdout",
          "text": [
            "     x  y (Euler)  y (Exacta)\n",
            "0  0.0   0.000000    0.000000\n",
            "1  0.5   0.000000    0.283617\n",
            "2  1.0   1.120422    3.219099\n"
          ]
        }
      ]
    },
    {
      "cell_type": "markdown",
      "source": [
        "Taylor orden 2"
      ],
      "metadata": {
        "id": "usLPXhZCO_fl"
      }
    },
    {
      "cell_type": "code",
      "source": [
        "import matplotlib.pyplot as plt\n",
        "import pandas as pd\n",
        "import math\n",
        "# Definir la nueva función f(t, y) = dy/dt\n",
        "def f(t, y):\n",
        "  return t*math.exp(3*t)-2*y # Nueva ecuación:\n",
        "# Definir la segunda derivada de f(t, y)\n",
        "def f_prime(t, y):\n",
        "  return math.exp(3*t)+3*t*math.exp(3*t)-2*(t*math.exp(3*t)-2*y) # Derivada:\n",
        "  # Método de Taylor de orden 2\n",
        "def taylor_2nd_order(f, f_prime, t0, y0, N, t_end):\n",
        "  h = (t_end - t0) / N # Tamaño del paso\n",
        "  t_vals = [t0]\n",
        "  y_vals = [y0]\n",
        "  for i in range(N):\n",
        "    y0 = y0 + h * f(t0, y0) + (h**2 / 2) * f_prime(t0, y0) # Método de Taylorde orden 2\n",
        "    t0 = t0 + h\n",
        "    t_vals.append(t0)\n",
        "    y_vals.append(y0)\n",
        "  return t_vals, y_vals\n",
        "  # Parámetros iniciales\n",
        "a = 0 # Valor inicial de t\n",
        "y0 = 0 # Valor inicial de y\n",
        "b = 1 # Valor final de t\n",
        "h=0.5\n",
        "N=(b-a)/h\n",
        "N=round(N)\n",
        "# Llamar al método de Taylor de orden 2\n",
        "t_vals, y_vals = taylor_2nd_order(f, f_prime, t0, y0, N, t_end)\n",
        "# Calcular la solución exacta para los mismos valores de t\n",
        "exact_vals = [exact_solution(t) for t in t_vals]\n",
        "# Mostrar la tabla de resultados en formato de DataFrame\n",
        "tabla_resultados = pd.DataFrame({\n",
        "'t': t_vals,\n",
        "'y (Taylor 2do Orden)': y_vals,\n",
        "'y (Exacta)': exact_vals\n",
        "})\n",
        "print(tabla_resultados)"
      ],
      "metadata": {
        "colab": {
          "base_uri": "https://localhost:8080/"
        },
        "id": "r7d3PAZuPCf5",
        "outputId": "ab8bc48a-987d-4c0b-8d5d-366c768b2f84"
      },
      "execution_count": 4,
      "outputs": [
        {
          "output_type": "stream",
          "name": "stdout",
          "text": [
            "     t  y (Taylor 2do Orden)  y (Exacta)\n",
            "0  0.0              0.000000    0.000000\n",
            "1  0.5              0.125000    0.283617\n",
            "2  1.0              2.023239    3.219099\n"
          ]
        }
      ]
    }
  ]
}