{
  "nbformat": 4,
  "nbformat_minor": 0,
  "metadata": {
    "colab": {
      "provenance": [],
      "authorship_tag": "ABX9TyNq2t5MHKZCvtYIPUjSaoSZ",
      "include_colab_link": true
    },
    "kernelspec": {
      "name": "python3",
      "display_name": "Python 3"
    },
    "language_info": {
      "name": "python"
    }
  },
  "cells": [
    {
      "cell_type": "markdown",
      "metadata": {
        "id": "view-in-github",
        "colab_type": "text"
      },
      "source": [
        "<a href=\"https://colab.research.google.com/github/PaulaDiz/C-LCULO-NUM-RICO-II/blob/main/RK2.ipynb\" target=\"_parent\"><img src=\"https://colab.research.google.com/assets/colab-badge.svg\" alt=\"Open In Colab\"/></a>"
      ]
    },
    {
      "cell_type": "code",
      "execution_count": 1,
      "metadata": {
        "colab": {
          "base_uri": "https://localhost:8080/"
        },
        "id": "P4h1PECGI95p",
        "outputId": "1195926f-614b-413e-cf9b-f15ac54f1968"
      },
      "outputs": [
        {
          "output_type": "stream",
          "name": "stdout",
          "text": [
            "      t   y (RK2)  y (Exacta)  Error Absoluto\n",
            "0   0.0  0.500000    0.500000        0.000000\n",
            "1   0.2  0.826000    0.829299        0.003299\n",
            "2   0.4  1.206920    1.214088        0.007168\n",
            "3   0.6  1.637242    1.648941        0.011698\n",
            "4   0.8  2.110236    2.127230        0.016994\n",
            "5   1.0  2.617688    2.640859        0.023171\n",
            "6   1.2  3.149579    3.179942        0.030363\n",
            "7   1.4  3.693686    3.732400        0.038714\n",
            "8   1.6  4.235097    4.283484        0.048387\n",
            "9   1.8  4.755619    4.815176        0.059558\n",
            "10  2.0  5.233055    5.305472        0.072417\n",
            "11  2.2  5.640327    5.727493        0.087167\n"
          ]
        }
      ],
      "source": [
        "import numpy as np\n",
        "import matplotlib.pyplot as plt\n",
        "import pandas as pd\n",
        "\n",
        "# Definir la ecuación diferencial y' = y - t^2 + 1\n",
        "def f(t, y):\n",
        "  return y - t**2 + 1\n",
        "\n",
        "# Solución exacta de la ecuación diferencial\n",
        "def exact_solution(t):\n",
        "  return t**2 + 2*t + 1 - 0.5*np.exp(t)\n",
        "\n",
        "# Método de Runge-Kutta de segundo orden (RK2)\n",
        "def runge_kutta_2(f, t0, y0, h, t_end):\n",
        "  # Inicialización de variables\n",
        "  t_vals = [t0]\n",
        "  y_vals = [y0]\n",
        "  t = t0\n",
        "  y = y0\n",
        "  # Iteración para resolver hasta t_end\n",
        "  while t < t_end:\n",
        "\n",
        "  # Cálculo de k1 y k2 (RK2)\n",
        "    k1 = f(t, y)\n",
        "    k2 = f(t + h, y + h * k1)\n",
        "\n",
        "    # Actualización de y\n",
        "    y = y + (h / 2) * (k1 + k2)\n",
        "    t = t + h\n",
        "\n",
        "    # Guardar los valores\n",
        "    t_vals.append(t)\n",
        "    y_vals.append(y)\n",
        "\n",
        "  return t_vals, y_vals\n",
        "\n",
        "\n",
        "# Parámetros iniciales\n",
        "t0 = 0 # Valor inicial de t\n",
        "y0 = 0.5 # Valor inicial de y\n",
        "t_end = 2 # Valor final de t\n",
        "h = 0.2 # Tamaño de paso\n",
        "\n",
        "# Llamar al método de Runge-Kutta de orden 2\n",
        "t_vals, y_vals = runge_kutta_2(f, t0, y0, h, t_end)\n",
        "\n",
        "# Calcular la solución exacta para los mismos valores de t\n",
        "exact_vals = [exact_solution(t) for t in t_vals]\n",
        "\n",
        "# Calcular el error absoluto en cada punto\n",
        "errors = [abs(exact_vals[i] - y_vals[i]) for i in range(len(t_vals))]\n",
        "\n",
        "# Mostrar la tabla de resultados con los errores en un DataFrame\n",
        "tabla_resultados = pd.DataFrame({\n",
        "'t': t_vals,\n",
        "'y (RK2)': y_vals,\n",
        "'y (Exacta)': exact_vals,\n",
        "'Error Absoluto': errors\n",
        "})\n",
        "print(tabla_resultados)\n"
      ]
    }
  ]
}