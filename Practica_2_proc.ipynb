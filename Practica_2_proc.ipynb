{
  "cells": [
    {
      "cell_type": "markdown",
      "metadata": {
        "id": "view-in-github",
        "colab_type": "text"
      },
      "source": [
        "<a href=\"https://colab.research.google.com/github/PaulaDiz/C-LCULO-NUM-RICO-II/blob/main/Practica_2_proc.ipynb\" target=\"_parent\"><img src=\"https://colab.research.google.com/assets/colab-badge.svg\" alt=\"Open In Colab\"/></a>"
      ]
    },
    {
      "cell_type": "code",
      "execution_count": 1,
      "metadata": {
        "colab": {
          "base_uri": "https://localhost:8080/"
        },
        "id": "AlJgHiky94Ee",
        "outputId": "0344c8c0-72f2-49d0-a6b4-f1efcee141ae"
      },
      "outputs": [
        {
          "output_type": "stream",
          "name": "stdout",
          "text": [
            "Error: No se encuentra el archivo de video en la ruta vacasprado.mp4\n",
            "Error al abrir el archivo de video.\n",
            "Frames procesados guardados en: C:/frames_with_people\n",
            "Video procesado guardado como: /content/processed_people_detection_fixed.mp4\n"
          ]
        }
      ],
      "source": [
        "import shutil\n",
        "import cv2\n",
        "import numpy as np\n",
        "import os\n",
        "\n",
        "# Configuración inicial\n",
        "video_path = \"vacasprado.mp4\"  # Ruta del archivo de video\n",
        "#processed_video_path = \"C:/processed_people_detection_fixed.mp4\"  # Ruta para el video procesado\n",
        "#processed_video_path = \"video/processed_people_detection_fixed.mp4\"\n",
        "processed_video_path = \"/content/processed_people_detection_fixed.mp4\"\n",
        "\n",
        "#\"C:\\Users\\paula\\Downloads\"\n",
        "\n",
        "frames_dir = \"C:/frames_with_people\"  # Directorio para guardar fotogramas procesados\n",
        "\n",
        "# Crear el directorio para almacenar los fotogramas procesados\n",
        "os.makedirs(frames_dir, exist_ok=True)\n",
        "\n",
        "# Verificar si el archivo de video existe\n",
        "if not os.path.exists(video_path):\n",
        "    print(f\"Error: No se encuentra el archivo de video en la ruta {video_path}\")\n",
        "    exit()\n",
        "\n",
        "# Abrir el archivo de video\n",
        "cap = cv2.VideoCapture(video_path)\n",
        "if not cap.isOpened():\n",
        "    print(\"Error al abrir el archivo de video.\")\n",
        "    exit()\n",
        "\n",
        "# Crear el video procesado\n",
        "fourcc = cv2.VideoWriter_fourcc(*'mp4v')\n",
        "out = cv2.VideoWriter(processed_video_path, fourcc, 20.0, (640, 360))\n",
        "\n",
        "frame_count = 0\n",
        "while cap.isOpened():\n",
        "    ret, frame = cap.read()\n",
        "    if not ret:\n",
        "        break\n",
        "\n",
        "    # Redimensionar el frame\n",
        "    frame_resized = cv2.resize(frame, (640, 360))\n",
        "\n",
        "    # 1. Detección de bordes (Canny)\n",
        "    edges = cv2.Canny(frame_resized, 100, 200)\n",
        "\n",
        "    # 2. Segmentación (Umbral)\n",
        "    gray = cv2.cvtColor(frame_resized, cv2.COLOR_BGR2GRAY)\n",
        "    _, binary = cv2.threshold(gray, 127, 255, cv2.THRESH_BINARY)\n",
        "\n",
        "    # 3. Contornos y detección de objetos\n",
        "    contours, _ = cv2.findContours(binary, cv2.RETR_EXTERNAL, cv2.CHAIN_APPROX_SIMPLE)\n",
        "    for cnt in contours:\n",
        "        if cv2.contourArea(cnt) > 500:  # Filtrar contornos pequeños\n",
        "            x, y, w, h = cv2.boundingRect(cnt)\n",
        "            cv2.rectangle(frame_resized, (x, y), (x + w, y + h), (0, 255, 0), 2)\n",
        "            cv2.putText(frame_resized, \"Person\", (x, y - 10), cv2.FONT_HERSHEY_SIMPLEX, 0.5, (0, 255, 0), 2)\n",
        "\n",
        "    # Guardar el frame procesado en la carpeta\n",
        "    frame_name = os.path.join(frames_dir, f\"frame_{frame_count:04d}.jpg\")\n",
        "    cv2.imwrite(frame_name, frame_resized)\n",
        "\n",
        "    # Añadir el frame procesado al video\n",
        "    out.write(frame_resized)\n",
        "    frame_count += 1\n",
        "\n",
        "# Liberar recursos\n",
        "cap.release()\n",
        "out.release()\n",
        "\n",
        "print(f\"Frames procesados guardados en: {frames_dir}\")\n",
        "print(f\"Video procesado guardado como: {processed_video_path}\")\n"
      ]
    }
  ],
  "metadata": {
    "colab": {
      "provenance": [],
      "authorship_tag": "ABX9TyMuXZFv7GkzCY2/7X81+KOZ",
      "include_colab_link": true
    },
    "kernelspec": {
      "display_name": "Python 3",
      "name": "python3"
    },
    "language_info": {
      "name": "python"
    }
  },
  "nbformat": 4,
  "nbformat_minor": 0
}